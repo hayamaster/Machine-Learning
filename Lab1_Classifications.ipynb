{
 "cells": [
  {
   "cell_type": "code",
   "execution_count": 161,
   "id": "993c137e",
   "metadata": {},
   "outputs": [],
   "source": [
    "import numpy as np\n",
    "import pandas as pd\n",
    "import warnings\n",
    "from sklearn import feature_selection\n",
    "from sklearn.ensemble import ExtraTreesClassifier\n",
    "from sklearn.model_selection import train_test_split\n",
    "from sklearn.preprocessing import StandardScaler, MinMaxScaler, RobustScaler\n",
    "from sklearn.preprocessing import LabelEncoder\n",
    "from sklearn.linear_model import LogisticRegression\n",
    "from sklearn.tree import DecisionTreeClassifier\n",
    "from sklearn.svm import SVC\n",
    "from sklearn.model_selection import GridSearchCV\n",
    "from sklearn.model_selection import RepeatedStratifiedKFold\n",
    "from sklearn.metrics import accuracy_score\n",
    "from sklearn.model_selection import KFold\n",
    "from sklearn.tree import plot_tree\n",
    "from matplotlib import pyplot as plt"
   ]
  },
  {
   "cell_type": "code",
   "execution_count": 162,
   "id": "e7906c90",
   "metadata": {},
   "outputs": [
    {
     "name": "stdout",
     "output_type": "stream",
     "text": [
      "<class 'pandas.core.frame.DataFrame'>\n",
      "Int64Index: 682 entries, 0 to 697\n",
      "Data columns (total 11 columns):\n",
      " #   Column                       Non-Null Count  Dtype  \n",
      "---  ------                       --------------  -----  \n",
      " 0   ID                           682 non-null    int64  \n",
      " 1   Clump Thickness              682 non-null    int64  \n",
      " 2   Uniformity of Cell Size      682 non-null    int64  \n",
      " 3   Uniformity of Cell Shape     682 non-null    int64  \n",
      " 4   Marginal Adhesion            682 non-null    int64  \n",
      " 5   Single Epithelial Cell Size  682 non-null    int64  \n",
      " 6   Bare Nuclei                  682 non-null    float64\n",
      " 7   Bland Chromatin              682 non-null    int64  \n",
      " 8   Normal Nucleoli              682 non-null    int64  \n",
      " 9   Mitoses                      682 non-null    int64  \n",
      " 10  Class                        682 non-null    int64  \n",
      "dtypes: float64(1), int64(10)\n",
      "memory usage: 63.9 KB\n",
      "None\n"
     ]
    }
   ],
   "source": [
    "warnings.filterwarnings('ignore')\n",
    "\n",
    "df = pd.read_csv('wisconsin.data')\n",
    "\n",
    "df.columns = ['ID', 'Clump Thickness', 'Uniformity of Cell Size', 'Uniformity of Cell Shape',\n",
    "             'Marginal Adhesion', 'Single Epithelial Cell Size', 'Bare Nuclei', \n",
    "              'Bland Chromatin', 'Normal Nucleoli', 'Mitoses', 'Class']\n",
    "\n",
    "df = df.apply(pd.to_numeric, errors='coerce').fillna(np.nan).dropna()\n",
    "\n",
    "print(df.info())"
   ]
  },
  {
   "cell_type": "code",
   "execution_count": 129,
   "id": "032902e4",
   "metadata": {},
   "outputs": [
    {
     "name": "stdout",
     "output_type": "stream",
     "text": [
      "                         Specs        Score\n",
      "5                  Bare Nuclei  1725.454497\n",
      "1      Uniformity of Cell Size  1367.255595\n",
      "2     Uniformity of Cell Shape  1277.002682\n",
      "7              Normal Nucleoli  1141.580025\n",
      "3            Marginal Adhesion   984.341910\n",
      "6              Bland Chromatin   683.035713\n",
      "0              Clump Thickness   625.115963\n",
      "4  Single Epithelial Cell Size   496.790690\n",
      "8                      Mitoses   228.643574 \n",
      "\n"
     ]
    }
   ],
   "source": [
    "# Apply Select K Best class to extract all features ranking\n",
    "X_independent = df.iloc[:, 1:10]\n",
    "y_target = df.iloc[:, -1]\n",
    "bf = feature_selection.SelectKBest(score_func=feature_selection.chi2, k=9)\n",
    "fit = bf.fit(X_independent, y_target)\n",
    "df_columns = pd.DataFrame(X_independent.columns)\n",
    "df_scores = pd.DataFrame(fit.scores_)\n",
    "\n",
    "# Concatenate two dataframes for better visualization\n",
    "featureScore = pd.concat([df_columns, df_scores], axis=1)\n",
    "featureScore.columns = ['Specs', 'Score']\n",
    "print(featureScore.nlargest(9, 'Score'),'\\n')"
   ]
  },
  {
   "cell_type": "code",
   "execution_count": 130,
   "id": "737255e9",
   "metadata": {},
   "outputs": [
    {
     "data": {
      "text/plain": [
       "<function matplotlib.pyplot.show(close=None, block=None)>"
      ]
     },
     "execution_count": 130,
     "metadata": {},
     "output_type": "execute_result"
    },
    {
     "data": {
      "image/png": "[encoded data removed]",
      "text/plain": [
       "<Figure size 432x288 with 1 Axes>"
      ]
     },
     "metadata": {
      "needs_background": "light"
     },
     "output_type": "display_data"
    }
   ],
   "source": [
    "# Apply extratreesclassifier class to extract important features in order\n",
    "X_independent = df.iloc[:, 1:10]\n",
    "y_target = df.iloc[:, -1]\n",
    "model = ExtraTreesClassifier()\n",
    "model.fit(X_independent, y_target)\n",
    "\n",
    "# Plot graph of feature importances for better visualization\n",
    "plt.clf()\n",
    "feat_importances = pd.Series(model.feature_importances_, index=X_independent.columns)\n",
    "feat_importances.nlargest(9).plot(kind='barh')\n",
    "plt.show"
   ]
  },
  {
   "cell_type": "code",
   "execution_count": 131,
   "id": "1c082d7a",
   "metadata": {},
   "outputs": [],
   "source": [
    "# Select feature\n",
    "# As I run two feature selection library (SelectKBeat, Extratreesclassifier)\n",
    "# Columns \"Mistoses\" have poor score in both\n",
    "# So I am going to use all features without \"ID\" and \"Mistoses\"\n",
    "data = df.iloc[:, 1:9].astype(np.int32)\n",
    "\n",
    "# Change class value 2,4 to 0,1 for convenience\n",
    "target = df.iloc[:, [-1]]\n",
    "encoder = LabelEncoder()\n",
    "target.loc[:, 'Class'] = encoder.fit_transform(target.loc[:, 'Class'])\n"
   ]
  },
  {
   "cell_type": "code",
   "execution_count": 143,
   "id": "fb131c46",
   "metadata": {},
   "outputs": [],
   "source": [
    "# define scaler and model list to use\n",
    "# Scaler list use 3 kinds of scaler that we learn at DataScience class\n",
    "scalers = [None, StandardScaler(), MinMaxScaler(), RobustScaler()]\n",
    "\n",
    "# Model list use 4 kinds of models, each model define parameter\n",
    "models = {\n",
    "    DecisionTreeClassifier():{\n",
    "        'criterion' : ['entropy'],\n",
    "        'max_depth' : [None, 6, 9, 12],\n",
    "        'min_samples_split' : [0.01, 0.05, 0.1, 1],\n",
    "        'splitter' : ['best', 'random'],\n",
    "        'max_features' : ['sqrt', 'log2']\n",
    "    },\n",
    "    DecisionTreeClassifier():{\n",
    "        'criterion' : ['gini'],\n",
    "        'max_depth' : [None, 6, 9, 12],\n",
    "        'min_samples_split' : [0.01, 0.05, 0.1, 1],\n",
    "        'splitter' : ['best', 'random'],\n",
    "        'max_features' : ['sqrt', 'log2']\n",
    "    },\n",
    "    LogisticRegression():{\n",
    "        'penalty' : ['l1', 'l2', 'elasticent', None],\n",
    "        'solver' : ['liblinear', 'newton-cg', 'lbfgs'],\n",
    "        'C' : [0.01, 0.1, 1]\n",
    "    },\n",
    "    SVC():{\n",
    "        'degree' : [1,2,3,4,5],\n",
    "        'kernel' : ['linear', 'rbf', 'poly', 'sigmoid'],\n",
    "        'C' : [0.01, 0.1, 1],\n",
    "        'gamma' : [0.0001, 0.001, 0.01, 0.1, 1]\n",
    "    }\n",
    "}"
   ]
  },
  {
   "cell_type": "code",
   "execution_count": 157,
   "id": "9e337d63",
   "metadata": {},
   "outputs": [],
   "source": [
    "# Make model function with scaling\n",
    "'''\n",
    "Parameters\n",
    "scalers : list of scaler to use\n",
    "models : list of model to use\n",
    "x_train, x_test, y_train, y_test : train, test dataset to use\n",
    "k : value about kfold k\n",
    "'''\n",
    "\n",
    "def Model_function(scalers, models, x_train, x_test, y_train, y_test, k):\n",
    "    df_columns = [\"Scaler\", 'Model', 'k', 'Score', 'Parameter']\n",
    "    result_list = []\n",
    "    \n",
    "    for scaler in scalers:\n",
    "        if(scaler != None):\n",
    "            x_test = scaler.fit_transform(x_test)\n",
    "            x_train = scaler.fit_transform(x_train)\n",
    "        \n",
    "        for model in models:\n",
    "            cv = KFold(k, shuffle=True, random_state=42)\n",
    "            grid_search = GridSearchCV(\n",
    "                estimator = model, param_grid = dict(models[model].items()), \n",
    "                cv = cv, scoring = 'accuracy', error_score=0\n",
    "            )\n",
    "            grid_result = grid_search.fit(x_train, y_train.values.ravel())\n",
    "#             estimatior = grid_result.best_estimator_\n",
    "#             y_pred = estimatior.predict(x_test)\n",
    "            \n",
    "            # summarize result\n",
    "            print(\"%s %s Best: %f using %s\"%(scaler, model, grid_result.best_score_, grid_result.best_params_))\n",
    "            score = grid_result.best_score_\n",
    "            result_list.append([scaler, model, k, score, grid_result.best_params_])\n",
    "            \n",
    "    result = pd.DataFrame(result_list, columns=df_columns)\n",
    "    return result\n",
    "            "
   ]
  },
  {
   "cell_type": "code",
   "execution_count": 159,
   "id": "fa1e849b",
   "metadata": {},
   "outputs": [
    {
     "name": "stdout",
     "output_type": "stream",
     "text": [
      "\n",
      "\n",
      "Result with KFold k =  3\n",
      "None DecisionTreeClassifier() Best: 0.962458 using {'criterion': 'entropy', 'max_depth': None, 'max_features': 'sqrt', 'min_samples_split': 0.01, 'splitter': 'random'}\n",
      "None DecisionTreeClassifier() Best: 0.964116 using {'criterion': 'gini', 'max_depth': 6, 'max_features': 'sqrt', 'min_samples_split': 0.01, 'splitter': 'random'}\n",
      "None LogisticRegression() Best: 0.967384 using {'C': 1, 'penalty': 'l2', 'solver': 'liblinear'}\n",
      "None SVC() Best: 0.972286 using {'C': 1, 'degree': 1, 'gamma': 0.01, 'kernel': 'rbf'}\n",
      "StandardScaler() DecisionTreeClassifier() Best: 0.967400 using {'criterion': 'entropy', 'max_depth': 6, 'max_features': 'log2', 'min_samples_split': 0.05, 'splitter': 'random'}\n",
      "StandardScaler() DecisionTreeClassifier() Best: 0.955994 using {'criterion': 'gini', 'max_depth': 12, 'max_features': 'sqrt', 'min_samples_split': 0.1, 'splitter': 'random'}\n",
      "StandardScaler() LogisticRegression() Best: 0.970652 using {'C': 0.1, 'penalty': 'l2', 'solver': 'liblinear'}\n",
      "StandardScaler() SVC() Best: 0.972286 using {'C': 0.1, 'degree': 1, 'gamma': 1, 'kernel': 'sigmoid'}\n",
      "MinMaxScaler() DecisionTreeClassifier() Best: 0.957620 using {'criterion': 'entropy', 'max_depth': None, 'max_features': 'log2', 'min_samples_split': 0.05, 'splitter': 'random'}\n",
      "MinMaxScaler() DecisionTreeClassifier() Best: 0.964124 using {'criterion': 'gini', 'max_depth': 12, 'max_features': 'sqrt', 'min_samples_split': 0.01, 'splitter': 'random'}\n",
      "MinMaxScaler() LogisticRegression() Best: 0.969010 using {'C': 0.01, 'penalty': 'l2', 'solver': 'liblinear'}\n",
      "MinMaxScaler() SVC() Best: 0.972286 using {'C': 1, 'degree': 1, 'gamma': 1, 'kernel': 'rbf'}\n",
      "RobustScaler() DecisionTreeClassifier() Best: 0.959246 using {'criterion': 'entropy', 'max_depth': None, 'max_features': 'sqrt', 'min_samples_split': 0.01, 'splitter': 'random'}\n",
      "RobustScaler() DecisionTreeClassifier() Best: 0.960856 using {'criterion': 'gini', 'max_depth': 12, 'max_features': 'log2', 'min_samples_split': 0.1, 'splitter': 'best'}\n",
      "RobustScaler() LogisticRegression() Best: 0.969010 using {'C': 0.1, 'penalty': 'l2', 'solver': 'liblinear'}\n",
      "RobustScaler() SVC() Best: 0.973912 using {'C': 1, 'degree': 1, 'gamma': 0.0001, 'kernel': 'linear'}\n",
      "\n",
      "\n",
      "Result with KFold k =  5\n",
      "None DecisionTreeClassifier() Best: 0.960829 using {'criterion': 'entropy', 'max_depth': 12, 'max_features': 'log2', 'min_samples_split': 0.01, 'splitter': 'best'}\n",
      "None DecisionTreeClassifier() Best: 0.960856 using {'criterion': 'gini', 'max_depth': 9, 'max_features': 'log2', 'min_samples_split': 0.1, 'splitter': 'random'}\n",
      "None LogisticRegression() Best: 0.967373 using {'C': 1, 'penalty': 'l2', 'solver': 'liblinear'}\n",
      "None SVC() Best: 0.970638 using {'C': 1, 'degree': 1, 'gamma': 0.0001, 'kernel': 'linear'}\n",
      "StandardScaler() DecisionTreeClassifier() Best: 0.962508 using {'criterion': 'entropy', 'max_depth': 12, 'max_features': 'sqrt', 'min_samples_split': 0.05, 'splitter': 'random'}\n",
      "StandardScaler() DecisionTreeClassifier() Best: 0.957617 using {'criterion': 'gini', 'max_depth': 6, 'max_features': 'sqrt', 'min_samples_split': 0.01, 'splitter': 'best'}\n",
      "StandardScaler() LogisticRegression() Best: 0.969026 using {'C': 0.01, 'penalty': 'l2', 'solver': 'liblinear'}\n",
      "StandardScaler() SVC() Best: 0.970652 using {'C': 1, 'degree': 1, 'gamma': 1, 'kernel': 'sigmoid'}\n",
      "MinMaxScaler() DecisionTreeClassifier() Best: 0.964121 using {'criterion': 'entropy', 'max_depth': None, 'max_features': 'log2', 'min_samples_split': 0.05, 'splitter': 'random'}\n",
      "MinMaxScaler() DecisionTreeClassifier() Best: 0.959203 using {'criterion': 'gini', 'max_depth': None, 'max_features': 'sqrt', 'min_samples_split': 0.1, 'splitter': 'random'}\n",
      "MinMaxScaler() LogisticRegression() Best: 0.970638 using {'C': 0.01, 'penalty': 'l2', 'solver': 'liblinear'}\n",
      "MinMaxScaler() SVC() Best: 0.969052 using {'C': 0.1, 'degree': 1, 'gamma': 1, 'kernel': 'rbf'}\n",
      "RobustScaler() DecisionTreeClassifier() Best: 0.960816 using {'criterion': 'entropy', 'max_depth': 12, 'max_features': 'log2', 'min_samples_split': 0.01, 'splitter': 'best'}\n",
      "RobustScaler() DecisionTreeClassifier() Best: 0.957644 using {'criterion': 'gini', 'max_depth': 9, 'max_features': 'log2', 'min_samples_split': 0.1, 'splitter': 'random'}\n",
      "RobustScaler() LogisticRegression() Best: 0.969012 using {'C': 1, 'penalty': 'l1', 'solver': 'liblinear'}\n",
      "RobustScaler() SVC() Best: 0.972291 using {'C': 0.1, 'degree': 1, 'gamma': 0.1, 'kernel': 'sigmoid'}\n",
      "\n",
      "\n",
      "Result with KFold k =  7\n",
      "None DecisionTreeClassifier() Best: 0.965816 using {'criterion': 'entropy', 'max_depth': 6, 'max_features': 'sqrt', 'min_samples_split': 0.01, 'splitter': 'random'}\n",
      "None DecisionTreeClassifier() Best: 0.959210 using {'criterion': 'gini', 'max_depth': 9, 'max_features': 'sqrt', 'min_samples_split': 0.1, 'splitter': 'random'}\n",
      "None LogisticRegression() Best: 0.967365 using {'C': 1, 'penalty': 'l1', 'solver': 'liblinear'}\n",
      "None SVC() Best: 0.972291 using {'C': 0.1, 'degree': 1, 'gamma': 0.0001, 'kernel': 'linear'}\n",
      "StandardScaler() DecisionTreeClassifier() Best: 0.959248 using {'criterion': 'entropy', 'max_depth': 6, 'max_features': 'log2', 'min_samples_split': 0.05, 'splitter': 'random'}\n",
      "StandardScaler() DecisionTreeClassifier() Best: 0.959266 using {'criterion': 'gini', 'max_depth': None, 'max_features': 'sqrt', 'min_samples_split': 0.01, 'splitter': 'random'}\n",
      "StandardScaler() LogisticRegression() Best: 0.970667 using {'C': 0.01, 'penalty': 'l2', 'solver': 'liblinear'}\n",
      "StandardScaler() SVC() Best: 0.972291 using {'C': 1, 'degree': 1, 'gamma': 0.0001, 'kernel': 'linear'}\n",
      "MinMaxScaler() DecisionTreeClassifier() Best: 0.964174 using {'criterion': 'entropy', 'max_depth': 6, 'max_features': 'log2', 'min_samples_split': 0.01, 'splitter': 'random'}\n",
      "MinMaxScaler() DecisionTreeClassifier() Best: 0.959248 using {'criterion': 'gini', 'max_depth': 6, 'max_features': 'sqrt', 'min_samples_split': 0.01, 'splitter': 'random'}\n",
      "MinMaxScaler() LogisticRegression() Best: 0.970630 using {'C': 0.01, 'penalty': 'l2', 'solver': 'liblinear'}\n",
      "MinMaxScaler() SVC() Best: 0.970649 using {'C': 1, 'degree': 1, 'gamma': 0.0001, 'kernel': 'linear'}\n",
      "RobustScaler() DecisionTreeClassifier() Best: 0.960890 using {'criterion': 'entropy', 'max_depth': 12, 'max_features': 'sqrt', 'min_samples_split': 0.01, 'splitter': 'random'}\n",
      "RobustScaler() DecisionTreeClassifier() Best: 0.959248 using {'criterion': 'gini', 'max_depth': 6, 'max_features': 'log2', 'min_samples_split': 0.01, 'splitter': 'best'}\n",
      "RobustScaler() LogisticRegression() Best: 0.967383 using {'C': 0.01, 'penalty': 'l2', 'solver': 'liblinear'}\n",
      "RobustScaler() SVC() Best: 0.972291 using {'C': 0.1, 'degree': 1, 'gamma': 0.1, 'kernel': 'sigmoid'}\n",
      "\n",
      "\n",
      "\n",
      "              Scaler                 Model  k     Score  \\\n",
      "15    RobustScaler()                 SVC()  3  0.973912   \n",
      "15    RobustScaler()                 SVC()  5  0.972291   \n",
      "3               None                 SVC()  7  0.972291   \n",
      "7   StandardScaler()                 SVC()  7  0.972291   \n",
      "15    RobustScaler()                 SVC()  7  0.972291   \n",
      "3               None                 SVC()  3  0.972286   \n",
      "7   StandardScaler()                 SVC()  3  0.972286   \n",
      "11    MinMaxScaler()                 SVC()  3  0.972286   \n",
      "6   StandardScaler()  LogisticRegression()  7  0.970667   \n",
      "6   StandardScaler()  LogisticRegression()  3  0.970652   \n",
      "\n",
      "                                                       Parameter  \n",
      "15    {'C': 1, 'degree': 1, 'gamma': 0.0001, 'kernel': 'linear'}  \n",
      "15    {'C': 0.1, 'degree': 1, 'gamma': 0.1, 'kernel': 'sigmoid'}  \n",
      "3   {'C': 0.1, 'degree': 1, 'gamma': 0.0001, 'kernel': 'linear'}  \n",
      "7     {'C': 1, 'degree': 1, 'gamma': 0.0001, 'kernel': 'linear'}  \n",
      "15    {'C': 0.1, 'degree': 1, 'gamma': 0.1, 'kernel': 'sigmoid'}  \n",
      "3          {'C': 1, 'degree': 1, 'gamma': 0.01, 'kernel': 'rbf'}  \n",
      "7       {'C': 0.1, 'degree': 1, 'gamma': 1, 'kernel': 'sigmoid'}  \n",
      "11            {'C': 1, 'degree': 1, 'gamma': 1, 'kernel': 'rbf'}  \n",
      "6            {'C': 0.01, 'penalty': 'l2', 'solver': 'liblinear'}  \n",
      "6             {'C': 0.1, 'penalty': 'l2', 'solver': 'liblinear'}  \n"
     ]
    }
   ],
   "source": [
    "# Run\n",
    "x_train, x_test, y_train, y_test = train_test_split(data, target, test_size=0.1, random_state=42, shuffle=True)\n",
    "\n",
    "df_columns = ['Scaler', 'Model', 'k', \"Score\", 'Parameter']\n",
    "result_final = pd.DataFrame(columns=df_columns)\n",
    "\n",
    "for i in [3, 5, 7]:\n",
    "    print(\"\\n\\nResult with KFold k = \", i)\n",
    "    result_return = Model_function(scalers, models, x_train, x_test, y_train, y_test, i)\n",
    "    result_final = pd.concat([result_final, result_return], axis = 0)\n",
    "\n",
    "result_final = result_final.astype({\"Score\" : \"float64\"})\n",
    "\n",
    "\n",
    "# print top 10 score\n",
    "print('\\n\\n')\n",
    "print(result_final.nlargest(10, 'Score'))"
   ]
  }
 ],
 "metadata": {
  "kernelspec": {
   "display_name": "Python 3.10.1 64-bit",
   "language": "python",
   "name": "python3"
  },
  "language_info": {
   "codemirror_mode": {
    "name": "ipython",
    "version": 3
   },
   "file_extension": ".py",
   "mimetype": "text/x-python",
   "name": "python",
   "nbconvert_exporter": "python",
   "pygments_lexer": "ipython3",
   "version": "3.10.1"
  },
  "vscode": {
   "interpreter": {
    "hash": "aee8b7b246df8f9039afb4144a1f6fd8d2ca17a180786b69acc140d282b71a49"
   }
  }
 },
 "nbformat": 4,
 "nbformat_minor": 5
}
